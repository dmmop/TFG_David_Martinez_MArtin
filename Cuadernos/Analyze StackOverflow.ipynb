{
 "cells": [
  {
   "cell_type": "markdown",
   "metadata": {},
   "source": [
    "### Import needed libraries"
   ]
  },
  {
   "cell_type": "code",
   "execution_count": 2,
   "metadata": {
    "collapsed": true
   },
   "outputs": [],
   "source": [
    "spark.stop()\n",
    "sc.stop()"
   ]
  },
  {
   "cell_type": "code",
   "execution_count": 3,
   "metadata": {},
   "outputs": [
    {
     "data": {
      "text/html": [
       "\n",
       "            <div>\n",
       "                <p><b>SparkSession - in-memory</b></p>\n",
       "                \n",
       "        <div>\n",
       "            <p><b>SparkContext</b></p>\n",
       "\n",
       "            <p><a href=\"http://192.168.1.15:4040\">Spark UI</a></p>\n",
       "\n",
       "            <dl>\n",
       "              <dt>Version</dt>\n",
       "                <dd><code>v2.2.0</code></dd>\n",
       "              <dt>Master</dt>\n",
       "                <dd><code>spark://david-hdp:7077</code></dd>\n",
       "              <dt>AppName</dt>\n",
       "                <dd><code>Jupyter: Stack Posts</code></dd>\n",
       "            </dl>\n",
       "        </div>\n",
       "        \n",
       "            </div>\n",
       "        "
      ],
      "text/plain": [
       "<pyspark.sql.session.SparkSession at 0x7faf8c110748>"
      ]
     },
     "execution_count": 3,
     "metadata": {},
     "output_type": "execute_result"
    }
   ],
   "source": [
    "from pyspark import SparkConf, SparkContext\n",
    "from pyspark.sql.functions import col, asc, desc\n",
    "from pyspark.sql.types import StructType, StructField, StringType, IntegerType\n",
    "conf = SparkConf().setAppName(\"Jupyter: Stack Posts\")\n",
    "conf = conf.setMaster(\"spark://david-hdp:7077\")\n",
    "sc = SparkContext(conf=conf)\n",
    "spark = SparkSession(sc)\n",
    "spark"
   ]
  },
  {
   "cell_type": "markdown",
   "metadata": {},
   "source": [
    "### Import data and create schema"
   ]
  },
  {
   "cell_type": "code",
   "execution_count": 4,
   "metadata": {
    "collapsed": true
   },
   "outputs": [],
   "source": [
    "schema = StructType([\n",
    "    StructField(\"tag\", StringType(), True),\n",
    "    StructField(\"fecha\", StringType(), True),\n",
    "    StructField(\"count\", IntegerType(), True),\n",
    "    StructField(\"score\", IntegerType(), True),\n",
    "    StructField(\"answers\", IntegerType(), True)])\n",
    "df = spark.read.csv('stof/clean/mysql_clean.csv', schema=schema)\n"
   ]
  },
  {
   "cell_type": "code",
   "execution_count": 13,
   "metadata": {},
   "outputs": [
    {
     "name": "stdout",
     "output_type": "stream",
     "text": [
      "+----+-------+-----+-----+-------+\n",
      "| tag|  fecha|count|score|answers|\n",
      "+----+-------+-----+-----+-------+\n",
      "|.net|2010-03| 1073| 6385|   2768|\n",
      "|.net|2011-02| 1036| 4408|   2101|\n",
      "|.net|2011-03| 1030| 5493|   2192|\n",
      "|.net|2010-08| 1018| 5003|   2443|\n",
      "|.net|2011-05| 1004| 4015|   1906|\n",
      "|.net|2011-04|  987| 3718|   1977|\n",
      "|.net|2011-01|  976| 4230|   2058|\n",
      "|.net|2011-07|  971| 3324|   1826|\n",
      "|.net|2010-02|  967| 5449|   2567|\n",
      "|.net|2010-07|  954| 4247|   2268|\n",
      "|.net|2011-06|  945| 3536|   1836|\n",
      "|.net|2010-09|  937| 4331|   2086|\n",
      "|.net|2011-08|  927| 3535|   1724|\n",
      "|.net|2010-04|  925| 5222|   2227|\n",
      "|.net|2010-06|  924| 4372|   2074|\n",
      "|.net|2010-11|  901| 4120|   1931|\n",
      "|.net|2010-05|  891| 4744|   2137|\n",
      "|.net|2010-12|  877| 3567|   1881|\n",
      "|.net|2008-09|  875|15080|   4689|\n",
      "|.net|2010-01|  866| 5020|   2462|\n",
      "+----+-------+-----+-----+-------+\n",
      "only showing top 20 rows\n",
      "\n"
     ]
    }
   ],
   "source": [
    "df.show()"
   ]
  },
  {
   "cell_type": "code",
   "execution_count": 22,
   "metadata": {
    "scrolled": false
   },
   "outputs": [
    {
     "name": "stdout",
     "output_type": "stream",
     "text": [
      "+----------+------+------+\n",
      "|       tag| count| score|\n",
      "+----------+------+------+\n",
      "|javascript|482970|876320|\n",
      "|        c#|436792|810352|\n",
      "|      java|354105|644255|\n",
      "|   android|352392|720040|\n",
      "|    python|267364|498320|\n",
      "|       c++|232816|677424|\n",
      "|       php|213584|328408|\n",
      "|       ios|181032|383838|\n",
      "|         c| 91936|219344|\n",
      "|      html| 91788|163830|\n",
      "+----------+------+------+\n",
      "\n"
     ]
    }
   ],
   "source": [
    "df.registerTempTable('temp_table')\n",
    "top10 = spark.sql('SELECT tag, sum(count) count, sum(score) score \\\n",
    "                        FROM temp_table where fecha >= \"2016-02\" \\\n",
    "                        GROUP BY tag \\\n",
    "                        ORDER BY count DESC \\\n",
    "                        LIMIT 10')\n",
    "top10.show()"
   ]
  }
 ],
 "metadata": {
  "kernelspec": {
   "display_name": "Python 3",
   "language": "python",
   "name": "python3"
  },
  "language_info": {
   "codemirror_mode": {
    "name": "ipython",
    "version": 3
   },
   "file_extension": ".py",
   "mimetype": "text/x-python",
   "name": "python",
   "nbconvert_exporter": "python",
   "pygments_lexer": "ipython3",
   "version": "3.6.3"
  }
 },
 "nbformat": 4,
 "nbformat_minor": 2
}
